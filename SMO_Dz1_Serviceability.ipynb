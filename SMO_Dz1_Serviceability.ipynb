{
  "nbformat": 4,
  "nbformat_minor": 0,
  "metadata": {
    "colab": {
      "provenance": []
    },
    "kernelspec": {
      "name": "python3",
      "display_name": "Python 3"
    },
    "language_info": {
      "name": "python"
    }
  },
  "cells": [
    {
      "cell_type": "markdown",
      "source": [
        "Найти решение такое ,что за счет некоторых лямбд  вероятность исправности = 90%\n",
        "\n",
        "Так же для изменения решения задачи, изменение лямбд было выполнено с условием что если мы повышаем интенсивность исходящего из узла на X, то интенсивность красного пути выходящего из этого же узла уменьшается на тот же самый X, чтобы общий исходящий трафик узлов оставался неизменным (может работать пропорционально с тремя путями, например, увеличить два потока на X, но уменьшить третий на 2*X)\n",
        "\n",
        "Ниже представлена схема путей, на которой зеленым цветом выделены пути, повышение интенсивности которых приводит к повышению исправности системы, желтым выделены исходящие пути, в случае которых невозможно выполнить преобразование трафика, и изменение интенсивности будет распределяться поровну между ними (шаг будет делиться на количество потоков)\n"
      ],
      "metadata": {
        "id": "SRdwUA2_pZq8"
      }
    },
    {
      "cell_type": "code",
      "execution_count": null,
      "metadata": {
        "colab": {
          "base_uri": "https://localhost:8080/"
        },
        "id": "HtyRTzy9nZtZ",
        "outputId": "88810394-102c-42fe-f8c2-cbb414a1d72e"
      },
      "outputs": [
        {
          "output_type": "stream",
          "name": "stdout",
          "text": [
            "Input lamda change step: 0.1\n",
            "Amount of time system stays functional:  0.42377947525738957\n",
            "Amount of time system stays functional:  0.44775132275132273\n",
            "Amount of time system stays functional:  0.47186574531095754\n",
            "Amount of time system stays functional:  0.49607329842931935\n",
            "Amount of time system stays functional:  0.5203252032520326\n",
            "Amount of time system stays functional:  0.5445736434108527\n",
            "Amount of time system stays functional:  0.5687720423212568\n",
            "Amount of time system stays functional:  0.5928753180661578\n",
            "Amount of time system stays functional:  0.6168401135288553\n",
            "Amount of time system stays functional:  0.640625\n",
            "Amount of time system stays functional:  0.6565015479876161\n",
            "Amount of time system stays functional:  0.6723926380368098\n",
            "Amount of time system stays functional:  0.6882978723404255\n",
            "Amount of time system stays functional:  0.7042168674698795\n",
            "Amount of time system stays functional:  0.7201492537313433\n",
            "Amount of time system stays functional:  0.736094674556213\n",
            "Amount of time system stays functional:  0.7520527859237537\n",
            "Amount of time system stays functional:  0.7680232558139535\n",
            "Amount of time system stays functional:  0.7840057636887608\n",
            "Amount of time system stays functional:  0.7996812864438086\n",
            "Amount of time system stays functional:  0.8159963856563022\n",
            "Amount of time system stays functional:  0.8329910216536588\n",
            "Amount of time system stays functional:  0.8507085543717583\n",
            "Amount of time system stays functional:  0.8691961127452805\n",
            "Amount of time system stays functional:  0.8885050133313305\n",
            "Amount of time system stays functional:  0.9086912359959372\n",
            "\n",
            " Lambda 01:  0.05 \n",
            " Lambda 02:  0.35 \n",
            " Lambda 10:  3.9 \n",
            " Lambda 13:  0.1 \n",
            " Lambda 20:  4.0 \n",
            " Lambda 23:  0.0 \n",
            " Lambda 31:  4.3 \n",
            " Lambda 32:  3.3 \n",
            " Вероятность исправности:  0.9087\n"
          ]
        }
      ],
      "source": [
        "import sympy as sp\n",
        "lbd_01, lbd_02, lbd_10, lbd_13, lbd_20, lbd_23, lbd_31, lbd_32 = 1, 2, 2, 2, 3, 1, 3, 2\n",
        "\n",
        "\n",
        "def main_func(l_01, l_02, l_10, l_13, l_20, l_23, l_31, l_32):\n",
        "  p_0, p_1, p_2, p_3 = sp.symbols(\"p_0, p_1, p_2, p_3\")\n",
        "\n",
        "  eq1 = sp.Eq((l_01 + l_02) * p_0, l_10 * p_1 + l_20 * p_2)\n",
        "  eq2 = sp.Eq((l_10 + l_13) * p_1, l_01 * p_0 + l_31 * p_3)\n",
        "  eq3 = sp.Eq((l_20 + l_23) * p_2, l_02 * p_0 + l_32 * p_3)\n",
        "  eq4 = sp.Eq(p_0 + p_1 + p_2 + p_3, 1)\n",
        "\n",
        "  answer = sp.solve((eq1, eq2, eq3, eq4), (p_0, p_1, p_2, p_3))\n",
        "  probabilities = list(answer.values())\n",
        "\n",
        "  return float(probabilities[0])\n",
        "\n",
        "step = float(input(\"Input lamda change step: \"))\n",
        "\n",
        "while True:\n",
        "  if main_func(lbd_01, lbd_02, lbd_10, lbd_13, lbd_20, lbd_23, lbd_31, lbd_32) < 0.9:\n",
        "    # Распределение уменьшения переходов из узла 0 (потому что это уменьшает исправность системы)\n",
        "    # Проверка, чтобы интенсивность не ушла в минус\n",
        "    if lbd_01 >= step/2 and lbd_02 >= step/2:\n",
        "      lbd_01, lbd_02 = lbd_01 - step/2, lbd_02 - step/2\n",
        "    elif lbd_01 >= step:\n",
        "      lbd_01 = lbd_01 - step\n",
        "    elif lbd_02 >= step:\n",
        "      lbd_02 = lbd_02 - step\n",
        "    # Распределения увеличения переходов из узла 3 в узлы 1 и 2 (повышает исправность системы)\n",
        "    lbd_31, lbd_32 = lbd_31 + step/2, lbd_32 + step/2\n",
        "\n",
        "    # Преобразование трафика потоков узла 1\n",
        "    if lbd_13 >= step:\n",
        "      lbd_13, lbd_10 = lbd_13 - step, lbd_10 + step\n",
        "\n",
        "    # Преобразование трафика потоков узла 2\n",
        "    if lbd_23 >= step:\n",
        "      lbd_23, lbd_20 = lbd_23 - step, lbd_20 + step\n",
        "\n",
        "    print(\"Amount of time system stays functional: \", main_func(lbd_01, lbd_02, lbd_10, lbd_13, lbd_20, lbd_23, lbd_31, lbd_32))\n",
        "  else:\n",
        "    print(\"\\n\", \"Lambda 01: \", round(lbd_01, 4), \"\\n\", \"Lambda 02: \", round(lbd_02, 4), \"\\n\", \"Lambda 10: \", round(lbd_10, 4),\n",
        "      \"\\n\", \"Lambda 13: \", round(lbd_13, 4), \"\\n\", \"Lambda 20: \", round(lbd_20, 4), \"\\n\", \"Lambda 23: \", round(lbd_23, 4),\n",
        "      \"\\n\", \"Lambda 31: \", round(lbd_31, 4), \"\\n\", \"Lambda 32: \", round(lbd_32, 4), \"\\n\", \"Вероятность исправности: \",\n",
        "      round(main_func(lbd_01, lbd_02, lbd_10, lbd_13, lbd_20, lbd_23, lbd_31, lbd_32), 4))\n",
        "    break\n"
      ]
    }
  ]
}