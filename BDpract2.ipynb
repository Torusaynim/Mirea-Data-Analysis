{
  "nbformat": 4,
  "nbformat_minor": 0,
  "metadata": {
    "colab": {
      "provenance": []
    },
    "kernelspec": {
      "name": "python3",
      "display_name": "Python 3"
    },
    "language_info": {
      "name": "python"
    }
  },
  "cells": [
    {
      "cell_type": "markdown",
      "source": [
        "1.\tНапишите программу, которая считывает с консоли числа (по одному в строке) до тех пор, пока сумма введённых чисел не будет равна 0 и после этого выводит сумму квадратов всех считанных чисел."
      ],
      "metadata": {
        "id": "eo-IGkEu8R_8"
      }
    },
    {
      "cell_type": "code",
      "execution_count": 1,
      "metadata": {
        "id": "ZWmGyoaX8PE-",
        "colab": {
          "base_uri": "https://localhost:8080/"
        },
        "outputId": "7d933a91-4b01-41dd-c20d-fe1ff72f4435"
      },
      "outputs": [
        {
          "output_type": "stream",
          "name": "stdout",
          "text": [
            "Введите число: 1\n",
            "Текущая сумма чисел:  1\n",
            "Введите число: 2\n",
            "Текущая сумма чисел:  3\n",
            "Введите число: 3\n",
            "Текущая сумма чисел:  6\n",
            "Введите число: -6\n",
            "Текущая сумма чисел:  0\n",
            "Квадратичная сумма чисел:  50\n"
          ]
        }
      ],
      "source": [
        "sum = 0\n",
        "squareSum = 0\n",
        "\n",
        "while True:\n",
        "  inp = int(input('Введите число: '))\n",
        "  sum += inp\n",
        "  squareSum += inp**2\n",
        "  print('Текущая сумма чисел: ', sum)\n",
        "  if sum == 0:\n",
        "    break\n",
        "\n",
        "print('Квадратичная сумма чисел: ', squareSum)"
      ]
    },
    {
      "cell_type": "markdown",
      "source": [
        "2.\tНапишите программу, которая выводит последовательность чисел, длинною N, где каждое число повторяется столько раз, чему оно равно. На вход программе передаётся неотрицательное целое число N. Например, если N = 7, то программа должна вывести 1 2 2 3 3 3 4. Вывод элементов списка через пробел – print(*list)."
      ],
      "metadata": {
        "id": "5wZVl9_m8XIY"
      }
    },
    {
      "cell_type": "code",
      "source": [
        "inp = int(input('Введите число: '))\n",
        "Rlist = list()\n",
        "\n",
        "for i in range(1, inp):\n",
        "  for j in range(i):\n",
        "    if inp == 0:\n",
        "      break\n",
        "    else:\n",
        "      inp -= 1\n",
        "      Rlist.append(i)\n",
        "\n",
        "print(*Rlist)"
      ],
      "metadata": {
        "colab": {
          "base_uri": "https://localhost:8080/"
        },
        "id": "DkXs4YNj8ZD3",
        "outputId": "7d40144b-b758-4365-ecda-7c92435d4da9"
      },
      "execution_count": 2,
      "outputs": [
        {
          "output_type": "stream",
          "name": "stdout",
          "text": [
            "Введите число: 7\n",
            "1 2 2 3 3 3 4\n"
          ]
        }
      ]
    },
    {
      "cell_type": "markdown",
      "source": [
        "3.\tМатрицу произвольного размера вытянуть в один вектор, не применяя встроенные методы Python. Пример:\n",
        "\n",
        "Для создания матрицы можно использовать np.random.rand(кол-во строк, кол-во столбцов).\n"
      ],
      "metadata": {
        "id": "HoXLiUaN8ZKj"
      }
    },
    {
      "cell_type": "code",
      "source": [
        "import numpy as np\n",
        "iSize, jSize = map(int, input('Введите размерность матрицы: ').split())\n",
        "matrix = np.random.rand(iSize, jSize)\n",
        "print(matrix)\n",
        "\n",
        "Rlist = list()\n",
        "for i in range(iSize):\n",
        "  for j in range(jSize):\n",
        "    Rlist.append(matrix[i][j])\n",
        "\n",
        "print(*Rlist)\n",
        "\n"
      ],
      "metadata": {
        "id": "lDRdbgTv8cU0",
        "colab": {
          "base_uri": "https://localhost:8080/"
        },
        "outputId": "72b1d7af-c18d-4854-870f-e1c65de0993a"
      },
      "execution_count": 3,
      "outputs": [
        {
          "output_type": "stream",
          "name": "stdout",
          "text": [
            "Введите размерность матрицы: 2 2\n",
            "[[0.65426598 0.20538235]\n",
            " [0.16030338 0.60879412]]\n",
            "0.6542659789569928 0.20538235174402153 0.16030337544865036 0.6087941177225629\n"
          ]
        }
      ]
    },
    {
      "cell_type": "code",
      "source": [],
      "metadata": {
        "id": "Cy5WW6s7N46R"
      },
      "execution_count": 3,
      "outputs": []
    },
    {
      "cell_type": "markdown",
      "source": [
        "4.\tДаны два списка:\n",
        "А = [1, 2, 3, 4, 2, 1, 3, 4, 5, 6, 5, 4, 3, 2]\n",
        "В = [‘a’, ’b’, ’c’, ’c’, ’c’, ’b’, ’a’, ’c’, ’a’, ’a’, ’b’, ’c’, ’b’, ’a’]\n",
        "Создать словарь, в котором ключи – это содержимое списка В, а значения для ключей словаря – это сумма всех элементов списка А в соответствии с буквой, содержащийся на той же позиции в списке В. Пример результата программы: {‘a’ : 10, ‘b’ : 15, ‘c’ : 6}.\n"
      ],
      "metadata": {
        "id": "YYsILjwb8cZ5"
      }
    },
    {
      "cell_type": "code",
      "source": [
        "A = [1, 2, 3, 4, 2, 1, 3, 4, 5, 6, 5, 4, 3, 2]\n",
        "B = ['a', 'b', 'c', 'c', 'c', 'b', 'a', 'c', 'a', 'a', 'b', 'c', 'b', 'a']\n",
        "Rdict = {}\n",
        "\n",
        "while A and B:\n",
        "  if str(B[0]) in Rdict.keys():\n",
        "    Rdict[str(B[0])] += A[0]\n",
        "  else:\n",
        "    Rdict[str(B[0])] = A[0]\n",
        "  A.pop(0)\n",
        "  B.pop(0)\n",
        "\n",
        "print(Rdict)\n",
        "\n"
      ],
      "metadata": {
        "id": "9AFziUUg8zAV",
        "colab": {
          "base_uri": "https://localhost:8080/"
        },
        "outputId": "8f60fc41-61c5-4459-a90a-c6da49131fe5"
      },
      "execution_count": 4,
      "outputs": [
        {
          "output_type": "stream",
          "name": "stdout",
          "text": [
            "{'a': 17, 'b': 11, 'c': 17}\n"
          ]
        }
      ]
    },
    {
      "cell_type": "markdown",
      "source": [
        "5.\tСкачать и загрузить данные о стоимости домов в калифорнии, используя библиотеку sklearn. \n",
      ],
      "metadata": {
        "id": "PuaTR-0p8zF6"
      }
    },
    {
      "cell_type": "code",
      "source": [
        "from sklearn.datasets import fetch_california_housing\n",
        "data = fetch_california_housing(as_frame=True)"
      ],
      "metadata": {
        "id": "JcvUBUUp84B5"
      },
      "execution_count": 5,
      "outputs": []
    },
    {
      "cell_type": "markdown",
      "source": [
        "6.\tИспользуя метод pd.concat([датафрейм1, датафрейм2], axis = 1), добавить к данным столбец, содержащий информацию о медианной стоимости дома (.target и .target_names)."
      ],
      "metadata": {
        "id": "fdMeOIlL84H3"
      }
    },
    {
      "cell_type": "code",
      "source": [
        "import pandas as pd\n",
        "frameData = pd.DataFrame(data.data)\n",
        "frameTarget = pd.DataFrame(data.target)\n",
        "frameData = pd.concat([frameData, frameTarget], axis=1)\n",
        "#print(data.data)\n",
        "#print(data)\n",
        "print(frameData)"
      ],
      "metadata": {
        "id": "UX4q1YgY9LPO",
        "colab": {
          "base_uri": "https://localhost:8080/"
        },
        "outputId": "749e4f12-b452-467c-9a26-3e4198963e74"
      },
      "execution_count": 6,
      "outputs": [
        {
          "output_type": "stream",
          "name": "stdout",
          "text": [
            "       MedInc  HouseAge  AveRooms  AveBedrms  Population  AveOccup  Latitude  \\\n",
            "0      8.3252      41.0  6.984127   1.023810       322.0  2.555556     37.88   \n",
            "1      8.3014      21.0  6.238137   0.971880      2401.0  2.109842     37.86   \n",
            "2      7.2574      52.0  8.288136   1.073446       496.0  2.802260     37.85   \n",
            "3      5.6431      52.0  5.817352   1.073059       558.0  2.547945     37.85   \n",
            "4      3.8462      52.0  6.281853   1.081081       565.0  2.181467     37.85   \n",
            "...       ...       ...       ...        ...         ...       ...       ...   \n",
            "20635  1.5603      25.0  5.045455   1.133333       845.0  2.560606     39.48   \n",
            "20636  2.5568      18.0  6.114035   1.315789       356.0  3.122807     39.49   \n",
            "20637  1.7000      17.0  5.205543   1.120092      1007.0  2.325635     39.43   \n",
            "20638  1.8672      18.0  5.329513   1.171920       741.0  2.123209     39.43   \n",
            "20639  2.3886      16.0  5.254717   1.162264      1387.0  2.616981     39.37   \n",
            "\n",
            "       Longitude  MedHouseVal  \n",
            "0        -122.23        4.526  \n",
            "1        -122.22        3.585  \n",
            "2        -122.24        3.521  \n",
            "3        -122.25        3.413  \n",
            "4        -122.25        3.422  \n",
            "...          ...          ...  \n",
            "20635    -121.09        0.781  \n",
            "20636    -121.21        0.771  \n",
            "20637    -121.22        0.923  \n",
            "20638    -121.32        0.847  \n",
            "20639    -121.24        0.894  \n",
            "\n",
            "[20640 rows x 9 columns]\n"
          ]
        }
      ]
    },
    {
      "cell_type": "markdown",
      "source": [
        "7.\tИспользовать метод info()."
      ],
      "metadata": {
        "id": "bsPlFISp9LY9"
      }
    },
    {
      "cell_type": "code",
      "source": [
        "print(frameData.info())"
      ],
      "metadata": {
        "id": "8yMwCVPP9Mlw",
        "colab": {
          "base_uri": "https://localhost:8080/"
        },
        "outputId": "1d1a30c4-97b8-4815-e3db-99df1c567dad"
      },
      "execution_count": 7,
      "outputs": [
        {
          "output_type": "stream",
          "name": "stdout",
          "text": [
            "<class 'pandas.core.frame.DataFrame'>\n",
            "RangeIndex: 20640 entries, 0 to 20639\n",
            "Data columns (total 9 columns):\n",
            " #   Column       Non-Null Count  Dtype  \n",
            "---  ------       --------------  -----  \n",
            " 0   MedInc       20640 non-null  float64\n",
            " 1   HouseAge     20640 non-null  float64\n",
            " 2   AveRooms     20640 non-null  float64\n",
            " 3   AveBedrms    20640 non-null  float64\n",
            " 4   Population   20640 non-null  float64\n",
            " 5   AveOccup     20640 non-null  float64\n",
            " 6   Latitude     20640 non-null  float64\n",
            " 7   Longitude    20640 non-null  float64\n",
            " 8   MedHouseVal  20640 non-null  float64\n",
            "dtypes: float64(9)\n",
            "memory usage: 1.4 MB\n",
            "None\n"
          ]
        }
      ]
    },
    {
      "cell_type": "markdown",
      "source": [
        "8.\tУзнать, есть ли пропущенные значения, используя isna().sum()."
      ],
      "metadata": {
        "id": "jfJ3gWL09MsW"
      }
    },
    {
      "cell_type": "code",
      "source": [
        "print(frameData.isna().sum())"
      ],
      "metadata": {
        "id": "pczUuu649OA9",
        "colab": {
          "base_uri": "https://localhost:8080/"
        },
        "outputId": "403f630f-f0e7-4256-efe8-4ededd2df531"
      },
      "execution_count": 8,
      "outputs": [
        {
          "output_type": "stream",
          "name": "stdout",
          "text": [
            "MedInc         0\n",
            "HouseAge       0\n",
            "AveRooms       0\n",
            "AveBedrms      0\n",
            "Population     0\n",
            "AveOccup       0\n",
            "Latitude       0\n",
            "Longitude      0\n",
            "MedHouseVal    0\n",
            "dtype: int64\n"
          ]
        }
      ]
    },
    {
      "cell_type": "markdown",
      "source": [
        "9.\tВывести записи, где средний возраст домов в районе более 50 лет и население более 2500 человек, используя метод loc()."
      ],
      "metadata": {
        "id": "ruXrBH_c9OHS"
      }
    },
    {
      "cell_type": "code",
      "source": [
        "print(frameData.loc[(frameData.HouseAge > 50) & (frameData.Population > 2500)])"
      ],
      "metadata": {
        "id": "xPVKD4pY9P9E",
        "colab": {
          "base_uri": "https://localhost:8080/"
        },
        "outputId": "41bb8269-555f-4a3e-e628-611c1ffafdad"
      },
      "execution_count": 9,
      "outputs": [
        {
          "output_type": "stream",
          "name": "stdout",
          "text": [
            "       MedInc  HouseAge  AveRooms  AveBedrms  Population    AveOccup  \\\n",
            "460    1.4012      52.0  3.105714   1.060000      3337.0    9.534286   \n",
            "4131   3.5349      52.0  4.646119   1.047945      2589.0    5.910959   \n",
            "4440   2.6806      52.0  4.806283   1.057592      3062.0    4.007853   \n",
            "5986   1.8750      52.0  4.500000   1.206349      2688.0   21.333333   \n",
            "7369   3.1901      52.0  4.730942   1.017937      3731.0    4.182735   \n",
            "8227   2.3305      52.0  3.488860   1.170380      3018.0    3.955439   \n",
            "13034  6.1359      52.0  8.275862   1.517241      6675.0  230.172414   \n",
            "15634  1.8295      52.0  2.628169   1.053521      2957.0    4.164789   \n",
            "15652  0.9000      52.0  2.237474   1.053535      3260.0    2.237474   \n",
            "15657  2.5166      52.0  2.839075   1.184049      3436.0    1.621520   \n",
            "15659  1.7240      52.0  2.278566   1.082348      4518.0    1.780142   \n",
            "15795  2.5755      52.0  3.402576   1.058776      2619.0    2.108696   \n",
            "15868  2.8135      52.0  4.584329   1.041169      2987.0    3.966799   \n",
            "\n",
            "       Latitude  Longitude  MedHouseVal  \n",
            "460       37.87    -122.26      1.75000  \n",
            "4131      34.13    -118.20      1.93600  \n",
            "4440      34.08    -118.21      1.53000  \n",
            "5986      34.10    -117.71      2.12500  \n",
            "7369      33.97    -118.21      1.67600  \n",
            "8227      33.78    -118.20      1.62500  \n",
            "13034     38.69    -121.15      2.25000  \n",
            "15634     37.80    -122.41      2.43800  \n",
            "15652     37.80    -122.41      5.00001  \n",
            "15657     37.79    -122.41      2.75000  \n",
            "15659     37.79    -122.41      2.25000  \n",
            "15795     37.77    -122.42      3.25000  \n",
            "15868     37.76    -122.41      2.60300  \n"
          ]
        }
      ]
    },
    {
      "cell_type": "markdown",
      "source": [
        "10.\tУзнать максимальное и минимальное значения медианной стоимости дома (max(), min())."
      ],
      "metadata": {
        "id": "C9xFBgvs9QCi"
      }
    },
    {
      "cell_type": "code",
      "source": [
        "print(frameData.MedHouseVal.max(), frameData.MedHouseVal.min())"
      ],
      "metadata": {
        "id": "iviyzoHZ9RJt",
        "colab": {
          "base_uri": "https://localhost:8080/"
        },
        "outputId": "e15ba208-2a85-400f-effb-ac0fe19e0629"
      },
      "execution_count": 10,
      "outputs": [
        {
          "output_type": "stream",
          "name": "stdout",
          "text": [
            "5.00001 0.14999\n"
          ]
        }
      ]
    },
    {
      "cell_type": "markdown",
      "source": [
        "11.\tИспользуя метод apply(), вывести на экран название признака и его среднее значение."
      ],
      "metadata": {
        "id": "d6OSHXl-9ROh"
      }
    },
    {
      "cell_type": "code",
      "source": [
        "def func(x):\n",
        "  mean = x.mean()\n",
        "  print(x.name, mean)\n",
        "\n",
        "r = frameData.apply(func,axis=0)"
      ],
      "metadata": {
        "id": "JOFajBzY9StB",
        "colab": {
          "base_uri": "https://localhost:8080/"
        },
        "outputId": "483abca9-8ef2-428e-d22d-80bdef6fc7ae"
      },
      "execution_count": 11,
      "outputs": [
        {
          "output_type": "stream",
          "name": "stdout",
          "text": [
            "MedInc 3.8706710029069766\n",
            "HouseAge 28.639486434108527\n",
            "AveRooms 5.428999742190376\n",
            "AveBedrms 1.096675149606208\n",
            "Population 1425.4767441860465\n",
            "AveOccup 3.0706551594363742\n",
            "Latitude 35.63186143410853\n",
            "Longitude -119.56970445736432\n",
            "MedHouseVal 2.068558169089147\n"
          ]
        }
      ]
    },
    {
      "cell_type": "markdown",
      "source": [
        "12.\tСоставить отчет о проделанной работе. В отчете должен быть представлен код и результаты его выполнения с выводами."
      ],
      "metadata": {
        "id": "d7BgTCXq9Szm"
      }
    }
  ]
}