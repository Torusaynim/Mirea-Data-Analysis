{
  "nbformat": 4,
  "nbformat_minor": 0,
  "metadata": {
    "colab": {
      "provenance": [],
      "gpuType": "T4"
    },
    "kernelspec": {
      "name": "python3",
      "display_name": "Python 3"
    },
    "language_info": {
      "name": "python"
    },
    "accelerator": "GPU"
  },
  "cells": [
    {
      "cell_type": "code",
      "source": [
        "import numpy as np\n",
        "import random\n",
        "from numpy.random import randn\n",
        "import warnings\n",
        "warnings.filterwarnings('ignore')"
      ],
      "metadata": {
        "id": "8DacJIUuB4RK"
      },
      "execution_count": null,
      "outputs": []
    },
    {
      "cell_type": "code",
      "execution_count": null,
      "metadata": {
        "id": "4w2DasHxBsZ-"
      },
      "outputs": [],
      "source": [
        "train_data = {\n",
        "  'good': True,\n",
        "  'bad': False,\n",
        "  'happy': True,\n",
        "  'sad': False,\n",
        "  'not good': False,\n",
        "  'not bad': True,\n",
        "  'not happy': False,\n",
        "  'not sad': True,\n",
        "  'very good': True,\n",
        "  'very bad': False,\n",
        "  'very happy': True,\n",
        "  'very sad': False,\n",
        "  'i am happy': True,\n",
        "  'this is good': True,\n",
        "  'i am bad': False,\n",
        "  'this is bad': False,\n",
        "  'i am sad': False,\n",
        "  'this is sad': False,\n",
        "  'i am not happy': False,\n",
        "  'this is not good': False,\n",
        "  'i am not bad': True,\n",
        "  'this is not sad': True,\n",
        "  'i am very happy': True,\n",
        "  'this is very good': True,\n",
        "  'i am very bad': False,\n",
        "  'this is very sad': False,\n",
        "  'this is very happy': True,\n",
        "  'i am good not bad': True,\n",
        "  'this is good not bad': True,\n",
        "  'i am bad not good': False,\n",
        "  'i am good and happy': True,\n",
        "  'this is not good and not happy': False,\n",
        "  'i am not at all good': False,\n",
        "  'i am not at all bad': True,\n",
        "  'i am not at all happy': False,\n",
        "  'this is not at all sad': True,\n",
        "  'this is not at all happy': False,\n",
        "  'i am good right now': True,\n",
        "  'i am bad right now': False,\n",
        "  'this is bad right now': False,\n",
        "  'i am sad right now': False,\n",
        "  'i was good earlier': True,\n",
        "  'i was happy earlier': True,\n",
        "  'i was bad earlier': False,\n",
        "  'i was sad earlier': False,\n",
        "  'i am very bad right now': False,\n",
        "  'this is very good right now': True,\n",
        "  'this is very sad right now': False,\n",
        "  'this was bad earlier': False,\n",
        "  'this was very good earlier': True,\n",
        "  'this was very bad earlier': False,\n",
        "  'this was very happy earlier': True,\n",
        "  'this was very sad earlier': False,\n",
        "  'i was good and not bad earlier': True,\n",
        "  'i was not good and not happy earlier': False,\n",
        "  'i am not at all bad or sad right now': True,\n",
        "  'i am not at all good or happy right now': False,\n",
        "  'this was not happy and not good earlier': False,\n",
        "}\n",
        "\n",
        "test_data = {\n",
        "  'this is happy': True,\n",
        "  'i am good': True,\n",
        "  'this is not happy': False,\n",
        "  'i am not good': False,\n",
        "  'this is not bad': True,\n",
        "  'i am not sad': True,\n",
        "  'i am very good': True,\n",
        "  'this is very bad': False,\n",
        "  'i am very sad': False,\n",
        "  'this is bad not good': False,\n",
        "  'this is good and happy': True,\n",
        "  'i am not good and not happy': False,\n",
        "  'i am not at all sad': True,\n",
        "  'this is not at all good': False,\n",
        "  'this is not at all bad': True,\n",
        "  'this is good right now': True,\n",
        "  'this is sad right now': False,\n",
        "  'this is very bad right now': False,\n",
        "  'this was good earlier': True,\n",
        "  'i was not happy and not good earlier': False,\n",
        "}"
      ]
    },
    {
      "cell_type": "code",
      "source": [
        "# Create the vocabulary\n",
        "vocab = list(set([w for text in train_data.keys() for w in text.split()]))\n",
        "vocab_size = len(vocab)\n",
        "print(\"%d unique words found\" %vocab_size)"
      ],
      "metadata": {
        "colab": {
          "base_uri": "https://localhost:8080/"
        },
        "id": "EnZXPCg2Cq-e",
        "outputId": "3d50982a-611e-422f-815c-fb84b8fe70ef"
      },
      "execution_count": null,
      "outputs": [
        {
          "output_type": "stream",
          "name": "stdout",
          "text": [
            "18 unique words found\n"
          ]
        }
      ]
    },
    {
      "cell_type": "code",
      "source": [
        "# Assign indices to each word\n",
        "word_to_index = {w: i for i, w in enumerate(vocab)}\n",
        "index_to_word = {i: w for i, w in enumerate(vocab)}\n",
        "\n",
        "print(word_to_index[\"good\"])\n",
        "print(index_to_word[0])"
      ],
      "metadata": {
        "colab": {
          "base_uri": "https://localhost:8080/"
        },
        "id": "G04Z5MYADCJZ",
        "outputId": "980bb504-61c7-4172-94ef-3044ed5682d4"
      },
      "execution_count": null,
      "outputs": [
        {
          "output_type": "stream",
          "name": "stdout",
          "text": [
            "10\n",
            "is\n"
          ]
        }
      ]
    },
    {
      "cell_type": "code",
      "source": [
        "# Transform words into vectors\n",
        "def createInputs(text):\n",
        "  inputs = []\n",
        "  for word in text.split():\n",
        "    v = np.zeros((vocab_size, 1))\n",
        "    v[word_to_index[word]] = 1\n",
        "    inputs.append(v)\n",
        "\n",
        "  return inputs"
      ],
      "metadata": {
        "id": "nLMi2m3uEUMQ"
      },
      "execution_count": null,
      "outputs": []
    },
    {
      "cell_type": "code",
      "source": [
        "# Defining RNN architecture\n",
        "class RNN:\n",
        "  def __init__(self, input_size, output_size, hidden_size=64):\n",
        "    # Weights\n",
        "    self.Whh = randn(hidden_size, hidden_size) / 1000\n",
        "    self.Wxh = randn(hidden_size, input_size) / 1000\n",
        "    self.Why = randn(output_size, hidden_size) / 1000\n",
        "\n",
        "    # Biases\n",
        "    self.bh = np.zeros((hidden_size, 1))\n",
        "    self.by = np.zeros((output_size, 1))\n",
        "\n",
        "  # Forward pass\n",
        "  def forward(self, inputs):\n",
        "    h = np.zeros((self.Whh.shape[0], 1))\n",
        "\n",
        "    self.last_inputs = inputs\n",
        "    self.last_hs = { 0: h }\n",
        "\n",
        "    # Perform each step of the RNN\n",
        "    for i, x in enumerate(inputs):\n",
        "      h = np.tanh(self.Wxh @ x + self.Whh @ h + self.bh)\n",
        "      self.last_hs[i + 1] = h\n",
        "\n",
        "    # Compute the output\n",
        "    y = self.Why @ h + self.by\n",
        "\n",
        "    return y, h\n",
        "\n",
        "  # Back propagation\n",
        "  def backprop(self, d_y, learn_rate=2e-2):\n",
        "    n = len(self.last_inputs)\n",
        "\n",
        "    # dL/dWhy and dL/dby\n",
        "    d_Why = d_y @ self.last_hs[n].T\n",
        "    d_by = d_y\n",
        "\n",
        "    # Initialize dL/dWhh, dL/dWxh, and dL/dbh to zero\n",
        "    d_Whh = np.zeros(self.Whh.shape)\n",
        "    d_Wxh = np.zeros(self.Wxh.shape)\n",
        "    d_bh = np.zeros(self.bh.shape)\n",
        "\n",
        "    # Calculate dL/dh for the last h\n",
        "    d_h = self.Why.T @ d_y\n",
        "\n",
        "    # Backpropagate through time\n",
        "    for t in reversed(range(n)):\n",
        "      temp = ((1 - self.last_hs[t + 1] ** 2) * d_h)\n",
        "\n",
        "      d_bh += temp\n",
        "      d_Whh += temp @ self.last_hs[t].T\n",
        "      d_Wxh += temp @ self.last_inputs[t].T\n",
        "      d_h = self.Whh @ temp\n",
        "\n",
        "    # Prevent exploding gradients\n",
        "    for d in [d_Wxh, d_Whh, d_Why, d_bh, d_by]:\n",
        "      np.clip(d, -1, 1, out=d)\n",
        "\n",
        "    # Update weights and biases\n",
        "    self.Whh -= learn_rate * d_Whh\n",
        "    self.Wxh -= learn_rate * d_Wxh\n",
        "    self.Why -= learn_rate * d_Why\n",
        "    self.bh -= learn_rate * d_bh\n",
        "    self.by -= learn_rate * d_by"
      ],
      "metadata": {
        "id": "gVJVvlw-Gd5E"
      },
      "execution_count": null,
      "outputs": []
    },
    {
      "cell_type": "code",
      "source": [
        "def softmax(xs):\n",
        "  # Applies the Softmax Function to the input array\n",
        "  return np.exp(xs) / sum(np.exp(xs))"
      ],
      "metadata": {
        "id": "uOms-H7gaPrH"
      },
      "execution_count": null,
      "outputs": []
    },
    {
      "cell_type": "code",
      "source": [
        "# Initialize RNN\n",
        "rnn = RNN(vocab_size, 2)\n",
        "\n",
        "inputs = createInputs(\"i am very good\")\n",
        "out, h = rnn.forward(inputs)\n",
        "probabilities = softmax(out)\n",
        "print(probabilities)"
      ],
      "metadata": {
        "colab": {
          "base_uri": "https://localhost:8080/"
        },
        "id": "J49IcrLPamPd",
        "outputId": "21fb861e-bd13-45b3-a632-a7a82978021d"
      },
      "execution_count": null,
      "outputs": [
        {
          "output_type": "stream",
          "name": "stdout",
          "text": [
            "[[0.50000054]\n",
            " [0.49999946]]\n"
          ]
        }
      ]
    },
    {
      "cell_type": "code",
      "source": [
        "# Get loss and accuracy for the given data\n",
        "# - data is a dictionary mapping text to True or False.\n",
        "# - backprop determines if the backward phase should be run.\n",
        "def processData(data, backprop=True):\n",
        "  items = list(data.items())\n",
        "  random.shuffle(items)\n",
        "\n",
        "  loss = 0\n",
        "  num_correct = 0\n",
        "\n",
        "  for x, y in items:\n",
        "    inputs = createInputs(x)\n",
        "    target = int(y)\n",
        "\n",
        "    # Forward\n",
        "    out, _ = rnn.forward(inputs)\n",
        "    probs = softmax(out)\n",
        "\n",
        "    # Calculate loss / accuracy\n",
        "    loss -= np.log(probs[target])\n",
        "    num_correct += int(np.argmax(probs) == target)\n",
        "\n",
        "    if backprop:\n",
        "      # Build dL/dy\n",
        "      d_L_d_y = probs\n",
        "      d_L_d_y[target] -= 1\n",
        "\n",
        "      # Backward\n",
        "      rnn.backprop(d_L_d_y)\n",
        "\n",
        "  return loss / len(data), num_correct / len(data)"
      ],
      "metadata": {
        "id": "VODKq93sbB2k"
      },
      "execution_count": null,
      "outputs": []
    },
    {
      "cell_type": "code",
      "source": [
        "# Training cycle\n",
        "for epoch in range(1000):\n",
        "  train_loss, train_acc = processData(train_data)\n",
        "\n",
        "  if epoch % 100 == 99:\n",
        "    print('--- Epoch %d' % (epoch + 1))\n",
        "    print('Train:\\tLoss %.3f | Accuracy: %.3f' % (train_loss, train_acc))\n",
        "\n",
        "    test_loss, test_acc = processData(test_data, backprop=False)\n",
        "    print('Test:\\tLoss %.3f | Accuracy: %.3f' % (test_loss, test_acc))"
      ],
      "metadata": {
        "colab": {
          "base_uri": "https://localhost:8080/"
        },
        "id": "arz1LLUPgwWb",
        "outputId": "3f1c4258-dead-4b59-a05e-32baa9f8b292"
      },
      "execution_count": null,
      "outputs": [
        {
          "output_type": "stream",
          "name": "stdout",
          "text": [
            "--- Epoch 100\n",
            "Train:\tLoss 0.688 | Accuracy: 0.552\n",
            "Test:\tLoss 0.699 | Accuracy: 0.500\n",
            "--- Epoch 200\n",
            "Train:\tLoss 0.647 | Accuracy: 0.672\n",
            "Test:\tLoss 0.748 | Accuracy: 0.650\n",
            "--- Epoch 300\n",
            "Train:\tLoss 0.178 | Accuracy: 0.948\n",
            "Test:\tLoss 0.096 | Accuracy: 1.000\n",
            "--- Epoch 400\n",
            "Train:\tLoss 0.020 | Accuracy: 1.000\n",
            "Test:\tLoss 0.015 | Accuracy: 1.000\n",
            "--- Epoch 500\n",
            "Train:\tLoss 0.004 | Accuracy: 1.000\n",
            "Test:\tLoss 0.005 | Accuracy: 1.000\n",
            "--- Epoch 600\n",
            "Train:\tLoss 0.002 | Accuracy: 1.000\n",
            "Test:\tLoss 0.004 | Accuracy: 1.000\n",
            "--- Epoch 700\n",
            "Train:\tLoss 0.002 | Accuracy: 1.000\n",
            "Test:\tLoss 0.003 | Accuracy: 1.000\n",
            "--- Epoch 800\n",
            "Train:\tLoss 0.001 | Accuracy: 1.000\n",
            "Test:\tLoss 0.002 | Accuracy: 1.000\n",
            "--- Epoch 900\n",
            "Train:\tLoss 0.001 | Accuracy: 1.000\n",
            "Test:\tLoss 0.002 | Accuracy: 1.000\n",
            "--- Epoch 1000\n",
            "Train:\tLoss 0.001 | Accuracy: 1.000\n",
            "Test:\tLoss 0.001 | Accuracy: 1.000\n"
          ]
        }
      ]
    },
    {
      "cell_type": "code",
      "source": [
        "# Check available words\n",
        "vocab"
      ],
      "metadata": {
        "colab": {
          "base_uri": "https://localhost:8080/"
        },
        "id": "tglso8ERfcos",
        "outputId": "9f8ea818-31f7-4106-91f3-381c94c8ebb3"
      },
      "execution_count": null,
      "outputs": [
        {
          "output_type": "execute_result",
          "data": {
            "text/plain": [
              "['is',\n",
              " 'happy',\n",
              " 'was',\n",
              " 'very',\n",
              " 'at',\n",
              " 'right',\n",
              " 'all',\n",
              " 'earlier',\n",
              " 'am',\n",
              " 'not',\n",
              " 'good',\n",
              " 'now',\n",
              " 'sad',\n",
              " 'and',\n",
              " 'this',\n",
              " 'or',\n",
              " 'i',\n",
              " 'bad']"
            ]
          },
          "metadata": {},
          "execution_count": 11
        }
      ]
    },
    {
      "cell_type": "code",
      "source": [
        "my_new_data = {\n",
        "    'this is good and not sad': True,\n",
        "    'i am not bad and not good': False,\n",
        "    'this is very sad and not bad': False,\n",
        "    'i am very good and very happy': True,\n",
        "    'this is not very sad and very good': True,\n",
        "    'i am not at all good or happy': False,\n",
        "    'this was very happy and not sad earlier': True,\n",
        "    'i was not bad and not happy earlier': False,\n",
        "    'this is not very good and not happy': False,\n",
        "    'i am not happy and not sad': False,\n",
        "}"
      ],
      "metadata": {
        "id": "SUPgz4FdVMyK"
      },
      "execution_count": null,
      "outputs": []
    },
    {
      "cell_type": "code",
      "source": [
        "my_new_data_loss, my_new_data_acc = processData(my_new_data, backprop=False)\n",
        "print('Test:\\tLoss %.3f | Accuracy: %.3f' % (my_new_data_loss, my_new_data_acc))"
      ],
      "metadata": {
        "id": "zEDkquACCipe",
        "colab": {
          "base_uri": "https://localhost:8080/"
        },
        "outputId": "e7099e5d-d140-412c-ef6e-96af9eb77b50"
      },
      "execution_count": null,
      "outputs": [
        {
          "output_type": "stream",
          "name": "stdout",
          "text": [
            "Test:\tLoss 0.624 | Accuracy: 0.900\n"
          ]
        }
      ]
    }
  ]
}